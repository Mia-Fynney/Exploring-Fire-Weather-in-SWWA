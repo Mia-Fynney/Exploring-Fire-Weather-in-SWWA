{
 "cells": [
  {
   "cell_type": "markdown",
   "id": "49017210-a872-4d32-ab17-6fda8c48ecb2",
   "metadata": {},
   "source": [
    "# FFDI CODE: FINAL"
   ]
  },
  {
   "cell_type": "markdown",
   "id": "a5434b44-ff1b-450f-8f71-0e3774a699c6",
   "metadata": {},
   "source": [
    "All FFDI code in this section was re-run for the later time period (where start_year and end_year were changed)\n",
    "The outputs of FFDI 1979-1998 and FFDI 2005-2024 were saved as netcdf files\n",
    "(WARNING: they took about 2.5hrs each to run, on max storage)"
   ]
  },
  {
   "cell_type": "markdown",
   "id": "b4904458-b3ec-458e-b66b-da692d1a2067",
   "metadata": {},
   "source": [
    "## Packages"
   ]
  },
  {
   "cell_type": "code",
   "execution_count": 1,
   "id": "b0bd1b88-f540-4ad5-aa9d-0b1824fec2db",
   "metadata": {},
   "outputs": [],
   "source": [
    "import xarray as xr\n",
    "import pandas as pd\n",
    "import numpy as np\n",
    "import glob\n",
    "import os\n",
    "import logging\n",
    "import matplotlib.pyplot as plt\n",
    "import cartopy.crs as ccrs\n",
    "import cartopy.feature as cfeature"
   ]
  },
  {
   "cell_type": "markdown",
   "id": "5001d025-5089-4d9f-9ac4-468af7ba2c55",
   "metadata": {},
   "source": [
    "## Preprocessing"
   ]
  },
  {
   "cell_type": "code",
   "execution_count": 4,
   "id": "74e5ed4a-ec24-439d-83b9-cf293994a03e",
   "metadata": {},
   "outputs": [],
   "source": [
    "# Largely courtesy of Dr Rachael Isphording"
   ]
  },
  {
   "cell_type": "code",
   "execution_count": 2,
   "id": "67b201fb-6a9f-418d-a96d-7b0e00085394",
   "metadata": {},
   "outputs": [],
   "source": [
    "# Define bounding box (SWWA)\n",
    "lat_slice = slice(-36, -32)     \n",
    "lon_slice = slice(114, 118)\n",
    "\n",
    "barra11_land_mask = xr.open_dataset('/g/data/ob53/BARRA2/output/reanalysis/AUS-11/BOM/ERA5/historical/hres/BARRA-R2/v1/fx/sftlf/latest/sftlf_AUS-11_ERA5_historical_hres_BOM_BARRA-R2_v1.nc')\n",
    "mask = barra11_land_mask['sftlf'].sel(lat=lat_slice, lon=lon_slice)\n",
    "land_mask = mask > 0"
   ]
  },
  {
   "cell_type": "code",
   "execution_count": 3,
   "id": "e9eef820-9996-40e0-8676-fc0e0568b016",
   "metadata": {},
   "outputs": [],
   "source": [
    "def load_barra_files(path, start_year, end_year, var, \n",
    "                     lon_slice=None, lat_slice=None):\n",
    "    # load land mask\n",
    "    mask_path = \"/g/data/ob53/BARRA2/output/reanalysis/AUS-11/BOM/ERA5/historical/hres/BARRA-R2/v1/fx/sftlf/latest/sftlf_AUS-11_ERA5_historical_hres_BOM_BARRA-R2_v1.nc\"\n",
    "    land_mask = xr.open_dataset(mask_path)['sftlf']\n",
    "\n",
    "    if lon_slice and lat_slice:\n",
    "        land_mask = land_mask.sel(lon=lon_slice, lat=lat_slice)\n",
    "\n",
    "    land_mask_bool = land_mask >= 50  # boolean mask, 50% of the grid cell or more must be land\n",
    "\n",
    "    # find files\n",
    "    all_files = sorted(glob.glob(os.path.join(path, f\"{var}_*.nc\")))\n",
    "    \n",
    "    filtered_files = []\n",
    "    for f in all_files:\n",
    "        fname_year = int(os.path.basename(f).split('_')[-1].split('-')[0][:4])\n",
    "        if start_year <= fname_year <= end_year:\n",
    "            filtered_files.append(f)\n",
    "    \n",
    "    print(f\"Found {len(filtered_files)} files for {start_year}-{end_year} in {path}\")\n",
    "    \n",
    "    # define preprocessing\n",
    "    def preprocess(ds):\n",
    "        if lon_slice and lat_slice:\n",
    "            ds = ds.sel(lon=lon_slice, lat=lat_slice)\n",
    "        ds[var] = ds[var].where(land_mask_bool) # apply mask\n",
    "        return ds\n",
    "\n",
    "    # open files\n",
    "    ds = xr.open_mfdataset(\n",
    "        filtered_files,\n",
    "        combine='by_coords',\n",
    "        preprocess=preprocess,\n",
    "        chunks={'time': 365, 'lat': 20, 'lon': 20},  # tweak chunk size for performance\n",
    "        parallel=True,\n",
    "    )\n",
    "\n",
    "    return ds"
   ]
  },
  {
   "cell_type": "markdown",
   "id": "1372320d-f1f5-46ea-a502-4526d5234fe3",
   "metadata": {},
   "source": [
    "# Keetch-Byram Drought Index (KBDI)"
   ]
  },
  {
   "cell_type": "markdown",
   "id": "92864036-3bc6-4dc5-b674-3a0e3135d349",
   "metadata": {},
   "source": [
    "## KBDI: Precipitation"
   ]
  },
  {
   "cell_type": "code",
   "execution_count": 8,
   "id": "5819bb11-b551-4add-9107-929bfbf783a8",
   "metadata": {
    "scrolled": true
   },
   "outputs": [
    {
     "name": "stdout",
     "output_type": "stream",
     "text": [
      "Found 240 files for 1979-1998 in /g/data/ob53/BARRA2/output/reanalysis/AUS-11/BOM/ERA5/historical/hres/BARRA-R2/v1/day/pr/latest\n"
     ]
    }
   ],
   "source": [
    "# LOAD DATA:\n",
    "# set-up BARRA path and variable\n",
    "barra_pr_path = \"/g/data/ob53/BARRA2/output/reanalysis/AUS-11/BOM/ERA5/historical/hres/BARRA-R2/v1/day/pr/latest\"\n",
    "start_year = 1979\n",
    "end_year = 1998\n",
    "variable = \"pr\"\n",
    "\n",
    "# load BARRA precipitation data for SWWA\n",
    "barra_aus11_pr = load_barra_files(barra_pr_path, start_year, end_year, variable,\n",
    "                                   lat_slice=lat_slice, lon_slice=lon_slice)"
   ]
  },
  {
   "cell_type": "code",
   "execution_count": 10,
   "id": "d417c6d5-9f88-49e2-9083-bea17e94916c",
   "metadata": {},
   "outputs": [],
   "source": [
    "precip_mm_day = barra_aus11_pr['pr'] * 86400  # convert to mm/day (BARRA is inkg/m²/s) \n",
    "# print(precip_mm_day.head()) # check attributes"
   ]
  },
  {
   "cell_type": "code",
   "execution_count": 11,
   "id": "129e9369-0f13-463f-9746-018e55b2e320",
   "metadata": {},
   "outputs": [],
   "source": [
    "# Calculating adjusted rainfall as per Keetch & Bryam (1968)\n",
    "\n",
    "# define threshold (mm)\n",
    "threshold = 5.08\n",
    "\n",
    "def adjusted_rainfall(pr, threshold=5.08):\n",
    "    # make a copy for output\n",
    "    adj = pr.copy(deep=True)\n",
    "    adj[:] = 0  # initialise everything to zero\n",
    "    \n",
    "    # convert to numpy for speed (still 3D: time, lat, lon)\n",
    "    rain = pr.values\n",
    "    out = np.zeros_like(rain)\n",
    "    \n",
    "    # keep cumulative totals for all grid cells at once\n",
    "    cumulative = np.zeros_like(rain[0])\n",
    "    active = np.zeros_like(rain[0], dtype=bool)  # whether it's in 'post-threshold' or not\n",
    "    \n",
    "    for t in range(rain.shape[0]):\n",
    "        if not np.all(active):\n",
    "            cumulative[~active] += rain[t, ~active]\n",
    "        \n",
    "        # if threshold is exceeded (and wasn't active before)\n",
    "        just_activated = (~active) & (cumulative > threshold)\n",
    "        out[t, just_activated] = cumulative[just_activated] - threshold\n",
    "        active |= just_activated\n",
    "        \n",
    "        # days after threshold is exceeded & rain > 0\n",
    "        raining_after = active & (rain[t] > 0) & ~just_activated\n",
    "        out[t, raining_after] = rain[t, raining_after]\n",
    "        \n",
    "        # if rain = 0, reset\n",
    "        reset_cells = (active & (rain[t] == 0))\n",
    "        active[reset_cells] = False\n",
    "        cumulative[reset_cells] = 0\n",
    "\n",
    "    # convert back to DataArray\n",
    "    adj[:] = out\n",
    "    adj.name = \"adjusted_rainfall\"\n",
    "    adj.attrs[\"units\"] = pr.attrs.get(\"units\", \"mm/day\")\n",
    "    adj.attrs[\"description\"] = f\"Daily adjusted rainfall after threshold {threshold} mm\"\n",
    "    \n",
    "    return adj"
   ]
  },
  {
   "cell_type": "code",
   "execution_count": 27,
   "id": "aa37a308-9c82-4ddf-a7b7-c4b15ce3c0f3",
   "metadata": {},
   "outputs": [],
   "source": [
    "adjust_rain_test = adjusted_rainfall(precip_mm_day,threshold)\n",
    "#cell takes a while to run!"
   ]
  },
  {
   "cell_type": "code",
   "execution_count": 28,
   "id": "367818ed-8930-4831-8969-af5785ce6b06",
   "metadata": {},
   "outputs": [],
   "source": [
    "adjust_rain_test.compute().max()#.isel(time=0).plot()\n",
    "\n",
    "# taking largest value for the day & computing it\n",
    "\n",
    "adjust_rain = adjust_rain_test.compute()"
   ]
  },
  {
   "cell_type": "markdown",
   "id": "2b532bb9-38e3-4f20-aba4-5d107a352fe2",
   "metadata": {},
   "source": [
    "## KBDI: Temperature"
   ]
  },
  {
   "cell_type": "code",
   "execution_count": 12,
   "id": "15555db4-a45b-4a25-a195-3d17fbe7c95a",
   "metadata": {},
   "outputs": [
    {
     "name": "stdout",
     "output_type": "stream",
     "text": [
      "Found 240 files for 1979-1998 in /g/data/ob53/BARRA2/output/reanalysis/AUS-11/BOM/ERA5/historical/hres/BARRA-R2/v1/day/tasmax/latest\n"
     ]
    }
   ],
   "source": [
    "# set up BARRA path and variable (years previously defined)\n",
    "barra_temp_path = \"/g/data/ob53/BARRA2/output/reanalysis/AUS-11/BOM/ERA5/historical/hres/BARRA-R2/v1/day/tasmax/latest\"\n",
    "variable_temp = \"tasmax\" # maximum temp for that day\n",
    "\n",
    "# load BARRA precipitation data for SWWA\n",
    "barra_aus11_temp = load_barra_files(barra_temp_path, start_year, end_year, variable_temp,\n",
    "                                   lat_slice=lat_slice, lon_slice=lon_slice)"
   ]
  },
  {
   "cell_type": "code",
   "execution_count": 13,
   "id": "59c57418-e368-4cd2-98af-0285b6c5d139",
   "metadata": {},
   "outputs": [],
   "source": [
    "temp_C = barra_aus11_temp['tasmax'] - 273.15 # convert K to C\n",
    "\n",
    "# temp_C.isel(time=6190).plot() # sense check"
   ]
  },
  {
   "cell_type": "code",
   "execution_count": 32,
   "id": "aaa9fb41-230f-4845-8027-061c7ae43bd7",
   "metadata": {},
   "outputs": [],
   "source": [
    "#temp_C.to_netcdf(\"/g/data/ng72/mf9479/k10_transfer/Thesis/temp_new.nc\")"
   ]
  },
  {
   "cell_type": "markdown",
   "id": "423624eb-4455-431b-ac7a-3ceea5060149",
   "metadata": {},
   "source": [
    "## KBDI: Evapotranspiration (ET) & KBDI calculation"
   ]
  },
  {
   "cell_type": "code",
   "execution_count": 26,
   "id": "27a105f4-c20b-4982-b681-e24fbfdc1f90",
   "metadata": {},
   "outputs": [],
   "source": [
    "# ET calculation from Keetch & Byram\n",
    "def calculate_ET(prev_KBDI, temp_C, mean_annual_rainfall):\n",
    "    numerator = (203.2 - prev_KBDI) * (0.968 * np.exp(0.0875 * temp_C + 1.5552) - 8.30)\n",
    "    denominator = 1 + 10.88 * np.exp(-0.001736 * mean_annual_rainfall)\n",
    "    ET = 0.001 * (numerator / denominator)\n",
    "    return ET\n",
    "\n",
    "# recursive daily KBDI calculation for a single time series\n",
    "def kbdi_timeseries(tmax, precip, mean_annual_rainfall, initial_kbdi=50.0):\n",
    "    # inputs: tmax (daily max temp,°C), precip (daily rainfall, mm), mean_annual_rainfall (mm/year for this grid cell), initial_kbdi (mm) \n",
    "    n = len(tmax)\n",
    "    kbdi = np.zeros(n, dtype=np.float64)\n",
    "    kbdi[0] = initial_kbdi\n",
    "\n",
    "    for i in range(1, n):\n",
    "        prev_KBDI = kbdi[i-1]\n",
    "\n",
    "        # ET uses yesterday's conditions\n",
    "        ET = calculate_ET(prev_KBDI, tmax[i-1], mean_annual_rainfall)\n",
    "\n",
    "        # Net rainfall = max(0, rain - 5)\n",
    "        net_rain = max(0, precip[i-1] - 5.0)\n",
    "\n",
    "        # update new KBDI\n",
    "        new_KBDI = prev_KBDI + ET - net_rain\n",
    "\n",
    "        # between 0 and 203.2\n",
    "        new_KBDI = min(max(new_KBDI, 0), 203.2)\n",
    "\n",
    "        kbdi[i] = new_KBDI\n",
    "\n",
    "    return kbdi\n",
    "\n",
    "# make sure time is one chunk (whole series together)\n",
    "temp_C = temp_C.chunk(dict(time=-1))\n",
    "adjust_rain = adjust_rain.chunk(dict(time=-1))\n",
    "\n",
    "def compute_kbdi(ds, initial_kbdi=50.0):\n",
    "    # tasmax & adjust_rain now in time,lat,lon (not 1D)\n",
    "    # mean annual rainfall per grid cell (mm/year):\n",
    "    annual_rain = ds['adjust_rain'].resample(time=\"YE\").sum(dim=\"time\")\n",
    "    mean_annual_rain = annual_rain.mean(dim=\"time\")  # (lat, lon)\n",
    "\n",
    "    # run recursive timeseries across all grid cells\n",
    "    kbdi = xr.apply_ufunc(\n",
    "        kbdi_timeseries,\n",
    "        ds[\"temp_C\"],\n",
    "        ds[\"adjust_rain\"],\n",
    "        mean_annual_rain,\n",
    "        kwargs={\"initial_kbdi\": initial_kbdi},\n",
    "        input_core_dims=[[\"time\"], [\"time\"], []],\n",
    "        output_core_dims=[[\"time\"]],\n",
    "        vectorize=True,\n",
    "        dask=\"parallelized\",\n",
    "        output_dtypes=[np.float64],\n",
    "    )\n",
    "    kbdi.name = \"kbdi\"\n",
    "    return kbdi"
   ]
  },
  {
   "cell_type": "code",
   "execution_count": 27,
   "id": "de883116-7a63-4419-a41c-85c11df6f8b5",
   "metadata": {
    "collapsed": true,
    "jupyter": {
     "outputs_hidden": true
    }
   },
   "outputs": [
    {
     "name": "stderr",
     "output_type": "stream",
     "text": [
      "INFO:flox:Entering _validate_reindex: reindex is None\n",
      "INFO:flox:Leaving _validate_reindex: method = None, returning None\n",
      "INFO:flox:_choose_engine: Choosing 'flox'\n",
      "INFO:flox:_choose_method: method is None\n",
      "INFO:flox:_choose_method: choosing preferred_method=blockwise\n",
      "INFO:flox:Entering _validate_reindex: reindex is None\n",
      "INFO:flox:Leaving _validate_reindex: reindex is False\n"
     ]
    }
   ],
   "source": [
    "# temp_C : (time, lat, lon) daily max temperature in °C\n",
    "# adjust_rain : (time, lat, lon) daily rainfall in mm/day\n",
    "\n",
    "# combine into a dataset\n",
    "ds = xr.Dataset({\n",
    "    \"temp_C\": temp_C,\n",
    "    \"adjust_rain\": adjust_rain\n",
    "})\n",
    "\n",
    "# run KBDI calculation\n",
    "kbdi = compute_kbdi(ds, initial_kbdi=50.0)\n",
    "\n",
    "# attach result\n",
    "ds[\"kbdi\"] = kbdi\n",
    "\n",
    "# save to NetCDF (only do this once!)\n",
    "#ds[[\"kbdi\"]].to_netcdf(\"KBDI_output.nc\")"
   ]
  },
  {
   "cell_type": "code",
   "execution_count": 29,
   "id": "abf81118-c63f-4121-a9e3-775e027f98e1",
   "metadata": {},
   "outputs": [],
   "source": [
    "kbdi.to_netcdf(\"/g/data/ng72/mf9479/k10_transfer/Thesis/KBDI_old.nc\")"
   ]
  },
  {
   "cell_type": "markdown",
   "id": "29431071-418c-4372-b924-f2f16990ac93",
   "metadata": {},
   "source": [
    "## Griffiths' Drought Factor (DF)"
   ]
  },
  {
   "cell_type": "code",
   "execution_count": 29,
   "id": "04f14714-70c2-452b-999a-6dacbffacb64",
   "metadata": {},
   "outputs": [],
   "source": [
    "# added in, so dont have to reload kbdi \n",
    "\n",
    "# KBDI: 2005-2024\n",
    "kbdi_var_old = xr.open_dataset('/g/data/ng72/mf9479/k10_transfer/Thesis/KBDI_old.nc')\n",
    "kbdi = kbdi_var_old[\"kbdi\"]"
   ]
  },
  {
   "cell_type": "code",
   "execution_count": 19,
   "id": "7ceaeb55-b28c-4fd2-b29d-bfabda937969",
   "metadata": {},
   "outputs": [],
   "source": [
    "# using Finkele 2006 & Lucas 2010 (eqn from BOM doc, error in griffiths 1999)"
   ]
  },
  {
   "cell_type": "code",
   "execution_count": 30,
   "id": "0a77dba0-ccaf-439b-b991-d30ecfe70b82",
   "metadata": {},
   "outputs": [],
   "source": [
    "def _sig_rain_event(rain, window=20):\n",
    "    out = np.ones_like(rain, dtype=float)\n",
    "\n",
    "    for t in range(len(rain)):\n",
    "        start = max(0, t - window + 1)\n",
    "        window_rain = rain[start:t+1].copy()\n",
    "            \n",
    "        #split the window into events, where each event is n consecutive days of rain, minimum 1 day.\n",
    "        locs = np.array(np.where(window_rain > 2))[0] #location where days above 2 mm\n",
    "         # if locs is empty then set so we don't compute P or N and move on\n",
    "        if np.size(locs) > 0:\n",
    "            breaks = np.where(np.diff(locs)>1)[0]+1 #splits at the time where the difference in location is more than 1 day\n",
    "            group = np.split(locs, breaks) #groups the data by the breaks between events\n",
    "            Ps = [window_rain[g].sum() for g in group] #sums over the groups\n",
    "            Ns = [len(window_rain) - (g[0] + np.argmax(window_rain[g])) - 1 for g in group]\n",
    "\n",
    "            # maximise the value for the biggest rain event using the following conditions as outlined in the paper\n",
    "            tmpx = np.zeros(len(Ps))\n",
    "            for i in range(len(Ps)):\n",
    "                # apply piecewise x equation\n",
    "              N = Ns[i]\n",
    "              P = Ps[i]\n",
    "              if (N >= 1) and (P > 2):\n",
    "                tmpx[i] = (N**1.3) / (N**1.3 + (P - 2))\n",
    "              elif (N == 0) and (P > 2):\n",
    "                tmpx[i] = (0.8**1.3) / (0.8**1.3 + (P - 2))\n",
    "              else:\n",
    "                tmpx[i] = 1.0\n",
    "          \n",
    "            out[t] = np.max(tmpx)\n",
    "        \n",
    "        else: out[t] = 1.0\n",
    " \n",
    "    return out"
   ]
  },
  {
   "cell_type": "code",
   "execution_count": 31,
   "id": "4de7c1e0-0d41-4431-b017-ceb7cc590d80",
   "metadata": {},
   "outputs": [],
   "source": [
    "def calculate_sig_rain_event(rain, window=20):\n",
    "    x = xr.apply_ufunc(\n",
    "        _sig_rain_event,\n",
    "        rain,\n",
    "        input_core_dims=[[\"time\"]],\n",
    "        output_core_dims=[[\"time\"]],\n",
    "        vectorize=True,                # loop over lat/lon\n",
    "        dask=\"parallelized\",           # allow dask execution\n",
    "        output_dtypes=[float],\n",
    "        kwargs={\"window\": window}\n",
    "    )\n",
    "    return x"
   ]
  },
  {
   "cell_type": "code",
   "execution_count": 32,
   "id": "2c28ff70-9926-4372-8526-631a5b38f43b",
   "metadata": {},
   "outputs": [],
   "source": [
    "def calculate_x_lim(kbdi):\n",
    "    return xr.where(kbdi < 20,\n",
    "                    1 / (1 + 0.1135 * kbdi),\n",
    "                    75 / (270.525 - 1.267 * kbdi))\n",
    "\n",
    "def calculate_drought_factor(kbdi_test, rain, window=20):\n",
    "    x_event = calculate_sig_rain_event(rain, window=window)\n",
    "    x_lim = calculate_x_lim(kbdi_test)\n",
    "    x = xr.where(x_event < x_lim, x_event, x_lim)\n",
    "\n",
    "    x_term = (41 * x**2 + x) / (40 * x**2 + x + 1)\n",
    "    kbdi_term = 10.5 * (1 - np.exp(-(kbdi_test + 30) / 40.0))\n",
    "    df = kbdi_term * x_term\n",
    "    return xr.where(df > 10, 10, df)"
   ]
  },
  {
   "cell_type": "code",
   "execution_count": 33,
   "id": "b98c1f52-8442-4f67-9d77-3ea3144354fb",
   "metadata": {},
   "outputs": [],
   "source": [
    "precip_mm_day = precip_mm_day.chunk({\"time\": -1})  # put all time into one chunk\n",
    "df = calculate_drought_factor(kbdi, precip_mm_day)"
   ]
  },
  {
   "cell_type": "code",
   "execution_count": 35,
   "id": "817860ce-a13f-4af7-80c6-2a2edf85b664",
   "metadata": {},
   "outputs": [],
   "source": [
    "df.to_netcdf(\"/g/data/ng72/mf9479/k10_transfer/Thesis/df_old.nc\")"
   ]
  },
  {
   "cell_type": "markdown",
   "id": "ba93c62f-9df4-4d3c-920c-6b7fdb09a762",
   "metadata": {},
   "source": [
    "## Windspeed (3pm)"
   ]
  },
  {
   "cell_type": "code",
   "execution_count": 2,
   "id": "83224e92-0e38-4e2a-b5e5-19a79b9bce16",
   "metadata": {},
   "outputs": [],
   "source": [
    "# windspeed = np.sqrt(u**2 + v**2), \n",
    "# u is eastward near surface wind (use hourly instantaneous, FFDI usually at 3pm so adjust for UTC. it will be one day out)\n",
    "# v is northward \n",
    "# both are positive, usually m/s (check)\n",
    "\n",
    "# u = uas (hourly instant), v = vas (hourly instant), select for 3pm "
   ]
  },
  {
   "cell_type": "code",
   "execution_count": 35,
   "id": "ef11b77a-1a37-42ee-81da-617d8c428ad8",
   "metadata": {},
   "outputs": [
    {
     "name": "stdout",
     "output_type": "stream",
     "text": [
      "Found 240 files for 1979-1998 in /g/data/ob53/BARRA2/output/reanalysis/AUS-11/BOM/ERA5/historical/hres/BARRA-R2/v1/1hr/uas/latest\n"
     ]
    }
   ],
   "source": [
    "# THIS IS FOR UAS\n",
    "barra_uas_path = \"/g/data/ob53/BARRA2/output/reanalysis/AUS-11/BOM/ERA5/historical/hres/BARRA-R2/v1/1hr/uas/latest\"\n",
    "variable_uas = \"uas\"\n",
    "\n",
    "# Load BARRA precipitation data for subregion\n",
    "barra_aus11_uas = load_barra_files(barra_uas_path, start_year, end_year, variable_uas,\n",
    "                                   lat_slice=lat_slice, lon_slice=lon_slice)"
   ]
  },
  {
   "cell_type": "code",
   "execution_count": 36,
   "id": "d950bf23-a2c4-49e6-a312-5d0b6f843895",
   "metadata": {},
   "outputs": [
    {
     "name": "stdout",
     "output_type": "stream",
     "text": [
      "Found 240 files for 1979-1998 in /g/data/ob53/BARRA2/output/reanalysis/AUS-11/BOM/ERA5/historical/hres/BARRA-R2/v1/1hr/vas/latest\n"
     ]
    }
   ],
   "source": [
    "# THIS IS FOR VAS\n",
    "barra_vas_path = \"/g/data/ob53/BARRA2/output/reanalysis/AUS-11/BOM/ERA5/historical/hres/BARRA-R2/v1/1hr/vas/latest\"\n",
    "variable_vas = \"vas\"\n",
    "\n",
    "# Load BARRA precipitation data for subregion\n",
    "barra_aus11_vas = load_barra_files(barra_vas_path, start_year, end_year, variable_vas,\n",
    "                                   lat_slice=lat_slice, lon_slice=lon_slice)"
   ]
  },
  {
   "cell_type": "code",
   "execution_count": 37,
   "id": "ba6acd3b-a1e4-4195-94d4-06157ba2ddab",
   "metadata": {},
   "outputs": [],
   "source": [
    "# Select 07 UTC (which is 3pm Perth)\n",
    "uas_3pm = barra_aus11_uas.sel(time=barra_aus11_uas.time.dt.hour == 7)\n",
    "vas_3pm = barra_aus11_vas.sel(time=barra_aus11_vas.time.dt.hour == 7)\n",
    "\n",
    "# calculate windspeed lazily (otherwise its too computationally massive)\n",
    "windspeed = np.sqrt(uas_3pm[\"uas\"]**2 + vas_3pm[\"vas\"]**2)"
   ]
  },
  {
   "cell_type": "code",
   "execution_count": 28,
   "id": "b144eec0-4cc8-4da3-b5ef-67d8482a3dae",
   "metadata": {},
   "outputs": [],
   "source": [
    "wind_units = xr.open_dataset('/g/data/ob53/BARRA2/output/reanalysis/AUS-11/BOM/ERA5/historical/hres/BARRA-R2/v1/1hr/uas/latest/uas_AUS-11_ERA5_historical_hres_BOM_BARRA-R2_v1_1hr_197902-197902.nc')"
   ]
  },
  {
   "cell_type": "code",
   "execution_count": 38,
   "id": "67ebc812-5045-4d0f-aa6a-b26702f188dc",
   "metadata": {},
   "outputs": [],
   "source": [
    "windspeed_nc = windspeed * 3.6 (m/s to km/h)"
   ]
  },
  {
   "cell_type": "code",
   "execution_count": 39,
   "id": "13b879aa-dc0f-4c14-9c51-ec7637518c85",
   "metadata": {},
   "outputs": [],
   "source": [
    "windspeed_nc.to_netcdf(\"/g/data/ng72/mf9479/k10_transfer/Thesis/windspeed_old.nc\")"
   ]
  },
  {
   "cell_type": "markdown",
   "id": "339d8b25-4672-406c-9367-2ebcbeb41965",
   "metadata": {},
   "source": [
    "## Relative Humidity (3pm)"
   ]
  },
  {
   "cell_type": "code",
   "execution_count": 14,
   "id": "da5c99a2-27f6-43a9-b761-149967389d28",
   "metadata": {},
   "outputs": [
    {
     "name": "stdout",
     "output_type": "stream",
     "text": [
      "Found 240 files for 1979-1998 in /g/data/ob53/BARRA2/output/reanalysis/AUS-11/BOM/ERA5/historical/hres/BARRA-R2/v1/1hr/hurs/latest\n"
     ]
    }
   ],
   "source": [
    "barra_hurs_path = \"/g/data/ob53/BARRA2/output/reanalysis/AUS-11/BOM/ERA5/historical/hres/BARRA-R2/v1/1hr/hurs/latest\"\n",
    "variable_hurs= \"hurs\"\n",
    "\n",
    "# Load BARRA precipitation data for SWWA\n",
    "barra_aus11_hurs = load_barra_files(barra_hurs_path, start_year, end_year, variable_hurs,\n",
    "                                   lat_slice=lat_slice, lon_slice=lon_slice)"
   ]
  },
  {
   "cell_type": "code",
   "execution_count": 15,
   "id": "a6ed2e63-a9cd-44d7-a798-399b92180686",
   "metadata": {},
   "outputs": [],
   "source": [
    "# Select 07 UTC (which is 3pm Perth)\n",
    "hurs_3pm = barra_aus11_hurs[\"hurs\"].sel(time=barra_aus11_hurs.time.dt.hour == 7)"
   ]
  },
  {
   "cell_type": "code",
   "execution_count": 7,
   "id": "28cb4f3c-11ac-4c3d-b5f1-70495a8bc23a",
   "metadata": {},
   "outputs": [],
   "source": [
    "hurs_3pm.to_netcdf(\"/g/data/ng72/mf9479/k10_transfer/Thesis/rh_new.nc\")"
   ]
  },
  {
   "cell_type": "markdown",
   "id": "86a453af-d90d-41e4-971a-8fa849a79718",
   "metadata": {},
   "source": [
    "# FFDI Calculation"
   ]
  },
  {
   "cell_type": "code",
   "execution_count": 22,
   "id": "74722411-9c0a-4ecb-9896-8fc9917031a5",
   "metadata": {},
   "outputs": [],
   "source": [
    "temp_test = temp_C.compute()\n",
    "\n",
    "# calling temp"
   ]
  },
  {
   "cell_type": "code",
   "execution_count": 23,
   "id": "61479d7f-5205-48d6-b9a3-e6c99a39d43a",
   "metadata": {},
   "outputs": [],
   "source": [
    "# grab variables\n",
    "temp = temp_test\n",
    "df = df     # from Griffiths function earlier\n",
    "rh = hurs_3pm                # relative humidity at 3 pm (%)\n",
    "wind = windspeed          # wind speed at 10m (km/h)\n",
    "\n",
    "# strip hours from the 3pm variables so they align with daily datasets (was giving a blank map bc NANs and didnt align by time)\n",
    "rh = rh.copy()\n",
    "rh[\"time\"] = rh[\"time\"].dt.floor(\"D\")\n",
    "\n",
    "wind = wind.copy()\n",
    "wind[\"time\"] = wind[\"time\"].dt.floor(\"D\")\n",
    "\n",
    "temp = temp.copy()\n",
    "temp[\"time\"] = temp[\"time\"].dt.floor(\"D\")\n",
    "\n",
    "df = df.copy()\n",
    "df[\"time\"] = df[\"time\"].dt.floor(\"D\")"
   ]
  },
  {
   "cell_type": "code",
   "execution_count": 24,
   "id": "2dac1536-b18c-410e-98d4-6cb2432fb1ad",
   "metadata": {},
   "outputs": [],
   "source": [
    "# avoid log(0) by forcing a minimum drought factor of 1\n",
    "df_safe = df.clip(min=1)\n",
    "\n",
    "ffdi = 2 * np.exp(\n",
    "    -0.45 +\n",
    "    0.987 * np.log(df_safe) +\n",
    "    -0.0345 * rh +\n",
    "    0.0338 * temp +\n",
    "    0.0234 * (wind * 3.6)   # convert m/s → km/h (assuming your using this code, not previously made netcdf, otherwise conversion is doubles up)\n",
    ")"
   ]
  },
  {
   "cell_type": "markdown",
   "id": "6a5531e9-9660-40e2-8d1c-7193889b1b1d",
   "metadata": {},
   "source": [
    "# Saving the FFDI files"
   ]
  },
  {
   "cell_type": "code",
   "execution_count": 4,
   "id": "abfa622e-b1b5-44b6-abc1-9b6ad5a49f6a",
   "metadata": {},
   "outputs": [],
   "source": [
    "#ffdi.to_netcdf(\"/g/data/ng72/mf9479/k10_transfer/Thesis/FFDI.nc\") # 2005-2024"
   ]
  },
  {
   "cell_type": "code",
   "execution_count": 6,
   "id": "2fd2960c-8406-487b-9503-23bc0ba09991",
   "metadata": {},
   "outputs": [],
   "source": [
    "#ffdi_old.to_netcdf(\"/g/data/ng72/mf9479/k10_transfer/Thesis/FFDI_old.nc\") # 1979-1998"
   ]
  },
  {
   "cell_type": "code",
   "execution_count": null,
   "id": "b8411be1-2bf3-41f1-8150-485784e434b2",
   "metadata": {},
   "outputs": [],
   "source": []
  }
 ],
 "metadata": {
  "kernelspec": {
   "display_name": "Python [conda env:analysis3]",
   "language": "python",
   "name": "conda-env-analysis3-py"
  },
  "language_info": {
   "codemirror_mode": {
    "name": "ipython",
    "version": 3
   },
   "file_extension": ".py",
   "mimetype": "text/x-python",
   "name": "python",
   "nbconvert_exporter": "python",
   "pygments_lexer": "ipython3",
   "version": "3.10.14"
  }
 },
 "nbformat": 4,
 "nbformat_minor": 5
}
